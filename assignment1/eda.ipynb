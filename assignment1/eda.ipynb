{
 "cells": [
  {
   "cell_type": "markdown",
   "metadata": {},
   "source": [
    "## Setup"
   ]
  },
  {
   "cell_type": "code",
   "execution_count": 2,
   "metadata": {},
   "outputs": [],
   "source": [
    "import pandas as pd\n",
    "from pandas_profiling import ProfileReport"
   ]
  },
  {
   "cell_type": "code",
   "execution_count": 14,
   "metadata": {},
   "outputs": [
    {
     "data": {
      "text/html": [
       "<div>\n",
       "<style scoped>\n",
       "    .dataframe tbody tr th:only-of-type {\n",
       "        vertical-align: middle;\n",
       "    }\n",
       "\n",
       "    .dataframe tbody tr th {\n",
       "        vertical-align: top;\n",
       "    }\n",
       "\n",
       "    .dataframe thead th {\n",
       "        text-align: right;\n",
       "    }\n",
       "</style>\n",
       "<table border=\"1\" class=\"dataframe\">\n",
       "  <thead>\n",
       "    <tr style=\"text-align: right;\">\n",
       "      <th></th>\n",
       "      <th>user_id</th>\n",
       "      <th>time</th>\n",
       "      <th>variable</th>\n",
       "      <th>value</th>\n",
       "    </tr>\n",
       "    <tr>\n",
       "      <th>id</th>\n",
       "      <th></th>\n",
       "      <th></th>\n",
       "      <th></th>\n",
       "      <th></th>\n",
       "    </tr>\n",
       "  </thead>\n",
       "  <tbody>\n",
       "    <tr>\n",
       "      <th>1</th>\n",
       "      <td>AS14.01</td>\n",
       "      <td>2014-02-26 13:00:00.000</td>\n",
       "      <td>mood</td>\n",
       "      <td>6.0</td>\n",
       "    </tr>\n",
       "    <tr>\n",
       "      <th>2</th>\n",
       "      <td>AS14.01</td>\n",
       "      <td>2014-02-26 15:00:00.000</td>\n",
       "      <td>mood</td>\n",
       "      <td>6.0</td>\n",
       "    </tr>\n",
       "    <tr>\n",
       "      <th>3</th>\n",
       "      <td>AS14.01</td>\n",
       "      <td>2014-02-26 18:00:00.000</td>\n",
       "      <td>mood</td>\n",
       "      <td>6.0</td>\n",
       "    </tr>\n",
       "    <tr>\n",
       "      <th>4</th>\n",
       "      <td>AS14.01</td>\n",
       "      <td>2014-02-26 21:00:00.000</td>\n",
       "      <td>mood</td>\n",
       "      <td>7.0</td>\n",
       "    </tr>\n",
       "    <tr>\n",
       "      <th>5</th>\n",
       "      <td>AS14.01</td>\n",
       "      <td>2014-02-27 09:00:00.000</td>\n",
       "      <td>mood</td>\n",
       "      <td>6.0</td>\n",
       "    </tr>\n",
       "  </tbody>\n",
       "</table>\n",
       "</div>"
      ],
      "text/plain": [
       "    user_id                     time variable  value\n",
       "id                                                  \n",
       "1   AS14.01  2014-02-26 13:00:00.000     mood    6.0\n",
       "2   AS14.01  2014-02-26 15:00:00.000     mood    6.0\n",
       "3   AS14.01  2014-02-26 18:00:00.000     mood    6.0\n",
       "4   AS14.01  2014-02-26 21:00:00.000     mood    7.0\n",
       "5   AS14.01  2014-02-27 09:00:00.000     mood    6.0"
      ]
     },
     "execution_count": 14,
     "metadata": {},
     "output_type": "execute_result"
    }
   ],
   "source": [
    "df = pd.read_csv(\"dataset_mood_smartphone.csv\", index_col='id')\n",
    "df.head()"
   ]
  },
  {
   "cell_type": "code",
   "execution_count": 20,
   "metadata": {},
   "outputs": [
    {
     "data": {
      "text/html": [
       "<div>\n",
       "<style scoped>\n",
       "    .dataframe tbody tr th:only-of-type {\n",
       "        vertical-align: middle;\n",
       "    }\n",
       "\n",
       "    .dataframe tbody tr th {\n",
       "        vertical-align: top;\n",
       "    }\n",
       "\n",
       "    .dataframe thead th {\n",
       "        text-align: right;\n",
       "    }\n",
       "</style>\n",
       "<table border=\"1\" class=\"dataframe\">\n",
       "  <thead>\n",
       "    <tr style=\"text-align: right;\">\n",
       "      <th></th>\n",
       "      <th>user_id</th>\n",
       "      <th>time</th>\n",
       "      <th>variable</th>\n",
       "      <th>value</th>\n",
       "    </tr>\n",
       "    <tr>\n",
       "      <th>id</th>\n",
       "      <th></th>\n",
       "      <th></th>\n",
       "      <th></th>\n",
       "      <th></th>\n",
       "    </tr>\n",
       "  </thead>\n",
       "  <tbody>\n",
       "    <tr>\n",
       "      <th>172799</th>\n",
       "      <td>AS14.28</td>\n",
       "      <td>2014-04-02 19:24:38.040</td>\n",
       "      <td>appCat.builtin</td>\n",
       "      <td>14.798</td>\n",
       "    </tr>\n",
       "    <tr>\n",
       "      <th>1748152</th>\n",
       "      <td>AS14.17</td>\n",
       "      <td>2014-05-05 13:23:26.519</td>\n",
       "      <td>appCat.social</td>\n",
       "      <td>32.140</td>\n",
       "    </tr>\n",
       "    <tr>\n",
       "      <th>369091</th>\n",
       "      <td>AS14.05</td>\n",
       "      <td>2014-04-19 11:44:28.262</td>\n",
       "      <td>appCat.builtin</td>\n",
       "      <td>26.549</td>\n",
       "    </tr>\n",
       "    <tr>\n",
       "      <th>149963</th>\n",
       "      <td>AS14.25</td>\n",
       "      <td>2014-04-30 15:56:53.137</td>\n",
       "      <td>appCat.builtin</td>\n",
       "      <td>29.199</td>\n",
       "    </tr>\n",
       "    <tr>\n",
       "      <th>1169821</th>\n",
       "      <td>AS14.19</td>\n",
       "      <td>2014-04-08 16:58:25.710</td>\n",
       "      <td>appCat.builtin</td>\n",
       "      <td>9.776</td>\n",
       "    </tr>\n",
       "  </tbody>\n",
       "</table>\n",
       "</div>"
      ],
      "text/plain": [
       "         user_id                     time        variable   value\n",
       "id                                                               \n",
       "172799   AS14.28  2014-04-02 19:24:38.040  appCat.builtin  14.798\n",
       "1748152  AS14.17  2014-05-05 13:23:26.519   appCat.social  32.140\n",
       "369091   AS14.05  2014-04-19 11:44:28.262  appCat.builtin  26.549\n",
       "149963   AS14.25  2014-04-30 15:56:53.137  appCat.builtin  29.199\n",
       "1169821  AS14.19  2014-04-08 16:58:25.710  appCat.builtin   9.776"
      ]
     },
     "execution_count": 20,
     "metadata": {},
     "output_type": "execute_result"
    }
   ],
   "source": [
    "sample = df.sample(1000)\n",
    "sample.head()"
   ]
  },
  {
   "cell_type": "code",
   "execution_count": null,
   "metadata": {},
   "outputs": [],
   "source": [
    "# pandas profiling\n",
    "prof = ProfileReport(df)\n",
    "prof.to_file(output_file='output.html')"
   ]
  },
  {
   "cell_type": "code",
   "execution_count": null,
   "metadata": {},
   "outputs": [],
   "source": [
    "# analyse values of \"sms\" and \"call\"\n"
   ]
  },
  {
   "cell_type": "markdown",
   "metadata": {},
   "source": [
    "## Remove invalid values"
   ]
  },
  {
   "cell_type": "code",
   "execution_count": 33,
   "metadata": {},
   "outputs": [
    {
     "name": "stdout",
     "output_type": "stream",
     "text": [
      "arousal 5643\n",
      "valence 5643\n"
     ]
    }
   ],
   "source": [
    "# count = df.apply(lambda x : True if (x['variable'] == \"circumplex.arousal\" and (x['value']>2 or x['value']<-2)) else False, axis=1)\n",
    "count = df.apply(lambda x : True if (x['variable'] == \"circumplex.arousal\") else False, axis=1)\n",
    "print('arousal ' + str(len(count[count == True].index)))\n",
    "\n",
    "# count = df.apply(lambda x : True if (x['variable'] == \"circumplex.valence\" and (x['value']>2 or x['value']<-2)) else False, axis=1)\n",
    "count = df.apply(lambda x : True if (x['variable'] == \"circumplex.valence\") else False, axis=1)\n",
    "print('valence ' + str(len(count[count == True].index)))\n",
    "\n",
    "# -2 < arousal < 2\n",
    "# is_arousal = df['variable']==\"arousal\"\n",
    "# print(is_arousal)\n",
    "# df.loc(df.value)\n",
    "# -2 < valence < 2"
   ]
  },
  {
   "cell_type": "code",
   "execution_count": null,
   "metadata": {},
   "outputs": [],
   "source": [
    "# Normalise `arousal` and `activity` to 1>x>0"
   ]
  },
  {
   "cell_type": "code",
   "execution_count": null,
   "metadata": {},
   "outputs": [],
   "source": [
    "# Remove any negative values\n",
    "df.loc[df.value < -0, 'my_channel'] = 0"
   ]
  },
  {
   "cell_type": "code",
   "execution_count": null,
   "metadata": {},
   "outputs": [],
   "source": [
    "# 1 < mood < 10\n"
   ]
  },
  {
   "cell_type": "code",
   "execution_count": null,
   "metadata": {},
   "outputs": [],
   "source": [
    "# 0 < activity <1"
   ]
  },
  {
   "cell_type": "code",
   "execution_count": null,
   "metadata": {},
   "outputs": [],
   "source": []
  }
 ],
 "metadata": {
  "interpreter": {
   "hash": "31f2aee4e71d21fbe5cf8b01ff0e069b9275f58929596ceb00d14d90e3e16cd6"
  },
  "kernelspec": {
   "display_name": "Python 3.8.9 64-bit",
   "language": "python",
   "name": "python3"
  },
  "language_info": {
   "codemirror_mode": {
    "name": "ipython",
    "version": 3
   },
   "file_extension": ".py",
   "mimetype": "text/x-python",
   "name": "python",
   "nbconvert_exporter": "python",
   "pygments_lexer": "ipython3",
   "version": "3.8.9"
  },
  "orig_nbformat": 4
 },
 "nbformat": 4,
 "nbformat_minor": 2
}
